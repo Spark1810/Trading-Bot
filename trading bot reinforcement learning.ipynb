{
 "cells": [
  {
   "cell_type": "markdown",
   "id": "8f3445f9",
   "metadata": {},
   "source": [
    "## Importing libraries" 
   ]
  },
  {
   "cell_type": "code",
   "execution_count": 32,
   "id": "5e4e3a84",
   "metadata": {},
   "outputs": [
    {
     "name": "stdout",
     "output_type": "stream",
     "text": [
      "Requirement already satisfied: yfinance in c:\\users\\lenovo\\anaconda3\\lib\\site-packages (0.1.70)\n",
      "Requirement already satisfied: numpy>=1.15 in c:\\users\\lenovo\\anaconda3\\lib\\site-packages (from yfinance) (1.21.5)\n",
      "Requirement already satisfied: pandas>=0.24.0 in c:\\users\\lenovo\\anaconda3\\lib\\site-packages (from yfinance) (1.4.2)\n",
      "Requirement already satisfied: multitasking>=0.0.7 in c:\\users\\lenovo\\anaconda3\\lib\\site-packages (from yfinance) (0.0.10)\n",
      "Requirement already satisfied: lxml>=4.5.1 in c:\\users\\lenovo\\anaconda3\\lib\\site-packages (from yfinance) (4.8.0)\n",
      "Requirement already satisfied: requests>=2.26 in c:\\users\\lenovo\\anaconda3\\lib\\site-packages (from yfinance) (2.27.1)\n",
      "Requirement already satisfied: python-dateutil>=2.8.1 in c:\\users\\lenovo\\anaconda3\\lib\\site-packages (from pandas>=0.24.0->yfinance) (2.8.2)\n",
      "Requirement already satisfied: pytz>=2020.1 in c:\\users\\lenovo\\anaconda3\\lib\\site-packages (from pandas>=0.24.0->yfinance) (2021.3)\n",
      "Requirement already satisfied: six>=1.5 in c:\\users\\lenovo\\anaconda3\\lib\\site-packages (from python-dateutil>=2.8.1->pandas>=0.24.0->yfinance) (1.16.0)\n",
      "Requirement already satisfied: urllib3<1.27,>=1.21.1 in c:\\users\\lenovo\\anaconda3\\lib\\site-packages (from requests>=2.26->yfinance) (1.26.9)\n",
      "Requirement already satisfied: charset-normalizer~=2.0.0 in c:\\users\\lenovo\\anaconda3\\lib\\site-packages (from requests>=2.26->yfinance) (2.0.4)\n",
      "Requirement already satisfied: idna<4,>=2.5 in c:\\users\\lenovo\\anaconda3\\lib\\site-packages (from requests>=2.26->yfinance) (3.3)\n",
      "Requirement already satisfied: certifi>=2017.4.17 in c:\\users\\lenovo\\anaconda3\\lib\\site-packages (from requests>=2.26->yfinance) (2021.10.8)\n"
     ]
    }
   ],
   "source": [
    "import numpy as np\n",
    "import pandas as pd\n",
    "import matplotlib.pyplot as plt\n",
    "import seaborn as sns\n",
    "sns.set()\n",
    "!pip install yfinance --upgrade --no-cache-dir\n",
    "from pandas_datareader import data as pdr\n",
    "import yfinance as yf\n",
    "from collections import deque\n",
    "import random\n",
    "import tensorflow.compat.v1 as tf\n",
    "tf.compat.v1.disable_eager_execution()"
   ]
  },
  {
   "cell_type": "markdown",
   "id": "af768d13",
   "metadata": {},
   "source": [
    "## Fetching  the data"
   ]
  },
  {
   "cell_type": "code",
   "execution_count": 35,
   "id": "1ff2cae5",
   "metadata": {},
   "outputs": [
    {
     "name": "stdout",
     "output_type": "stream",
     "text": [
      "[*********************100%***********************]  1 of 1 completed\n"
     ]
    },
    {
     "data": {
      "text/html": [
       "<div>\n",
       "<style scoped>\n",
       "    .dataframe tbody tr th:only-of-type {\n",
       "        vertical-align: middle;\n",
       "    }\n",
       "\n",
       "    .dataframe tbody tr th {\n",
       "        vertical-align: top;\n",
       "    }\n",
       "\n",
       "    .dataframe thead th {\n",
       "        text-align: right;\n",
       "    }\n",
       "</style>\n",
       "<table border=\"1\" class=\"dataframe\">\n",
       "  <thead>\n",
       "    <tr style=\"text-align: right;\">\n",
       "      <th></th>\n",
       "      <th>Date</th>\n",
       "      <th>Open</th>\n",
       "      <th>High</th>\n",
       "      <th>Low</th>\n",
       "      <th>Close</th>\n",
       "      <th>Adj Close</th>\n",
       "      <th>Volume</th>\n",
       "    </tr>\n",
       "  </thead>\n",
       "  <tbody>\n",
       "    <tr>\n",
       "      <th>0</th>\n",
       "      <td>2022-01-03</td>\n",
       "      <td>25.389999</td>\n",
       "      <td>25.540001</td>\n",
       "      <td>25.150000</td>\n",
       "      <td>25.260000</td>\n",
       "      <td>25.260000</td>\n",
       "      <td>4526700</td>\n",
       "    </tr>\n",
       "    <tr>\n",
       "      <th>1</th>\n",
       "      <td>2022-01-04</td>\n",
       "      <td>25.250000</td>\n",
       "      <td>25.370001</td>\n",
       "      <td>24.980000</td>\n",
       "      <td>25.110001</td>\n",
       "      <td>25.110001</td>\n",
       "      <td>8180900</td>\n",
       "    </tr>\n",
       "    <tr>\n",
       "      <th>2</th>\n",
       "      <td>2022-01-05</td>\n",
       "      <td>24.840000</td>\n",
       "      <td>24.920000</td>\n",
       "      <td>24.250000</td>\n",
       "      <td>24.299999</td>\n",
       "      <td>24.299999</td>\n",
       "      <td>8881400</td>\n",
       "    </tr>\n",
       "    <tr>\n",
       "      <th>3</th>\n",
       "      <td>2022-01-06</td>\n",
       "      <td>24.200001</td>\n",
       "      <td>24.490000</td>\n",
       "      <td>23.969999</td>\n",
       "      <td>24.110001</td>\n",
       "      <td>24.110001</td>\n",
       "      <td>11523300</td>\n",
       "    </tr>\n",
       "    <tr>\n",
       "      <th>4</th>\n",
       "      <td>2022-01-07</td>\n",
       "      <td>24.219999</td>\n",
       "      <td>24.370001</td>\n",
       "      <td>23.969999</td>\n",
       "      <td>24.200001</td>\n",
       "      <td>24.200001</td>\n",
       "      <td>6596500</td>\n",
       "    </tr>\n",
       "  </tbody>\n",
       "</table>\n",
       "</div>"
      ],
      "text/plain": [
       "        Date       Open       High        Low      Close  Adj Close    Volume\n",
       "0 2022-01-03  25.389999  25.540001  25.150000  25.260000  25.260000   4526700\n",
       "1 2022-01-04  25.250000  25.370001  24.980000  25.110001  25.110001   8180900\n",
       "2 2022-01-05  24.840000  24.920000  24.250000  24.299999  24.299999   8881400\n",
       "3 2022-01-06  24.200001  24.490000  23.969999  24.110001  24.110001  11523300\n",
       "4 2022-01-07  24.219999  24.370001  23.969999  24.200001  24.200001   6596500"
      ]
     },
     "execution_count": 35,
     "metadata": {},
     "output_type": "execute_result"
    }
   ],
   "source": [
    "yf.pdr_override()\n",
    "df_full = pdr.get_data_yahoo(\"INFY\", start=\"2022-01-01\").reset_index()\n",
    "df_full.to_csv('INFY.csv',index=False)\n",
    "df_full.head()"
   ]
  },
  {
   "cell_type": "markdown",
   "id": "6970e79a",
   "metadata": {},
   "source": [
    "## Define the Q-Learning Agent\n"
   ]
  },
  {
   "cell_type": "code",
   "execution_count": 36,
   "id": "8bd57195",
   "metadata": {},
   "outputs": [],
   "source": [
    "df= df_full.copy()\n",
    "name = 'Q-learning agent'\n",
    "class Agent:\n",
    "    def __init__(self, state_size, window_size, trend, skip, batch_size):\n",
    "        self.state_size = state_size\n",
    "        self.window_size = window_size\n",
    "        self.half_window = window_size // 2\n",
    "        self.trend = trend\n",
    "        self.skip = skip\n",
    "        self.action_size = 3\n",
    "        self.batch_size = batch_size\n",
    "        self.memory = deque(maxlen = 1000)\n",
    "        self.inventory = []\n",
    "        self.gamma = 0.95\n",
    "        self.epsilon = 0.5\n",
    "        self.epsilon_min = 0.01\n",
    "        self.epsilon_decay = 0.999\n",
    "        tf.reset_default_graph()\n",
    "        self.sess = tf.InteractiveSession()\n",
    "        self.X = tf.placeholder(tf.float32, [None, self.state_size])\n",
    "        self.Y = tf.placeholder(tf.float32, [None, self.action_size])\n",
    "        feed = tf.layers.dense(self.X, 256, activation = tf.nn.relu)\n",
    "        self.logits = tf.layers.dense(feed, self.action_size)\n",
    "        self.cost = tf.reduce_mean(tf.square(self.Y - self.logits))\n",
    "        self.optimizer = tf.train.GradientDescentOptimizer(1e-5).minimize(\n",
    "            self.cost\n",
    "        )\n",
    "        self.sess.run(tf.global_variables_initializer())\n",
    "    def act(self, state):\n",
    "        if random.random() <= self.epsilon:\n",
    "            return random.randrange(self.action_size)\n",
    "        return np.argmax(\n",
    "            self.sess.run(self.logits, feed_dict = {self.X: state})[0]\n",
    "        )\n",
    "    def get_state(self, t):\n",
    "        window_size = self.window_size + 1\n",
    "        d = t - window_size + 1\n",
    "        block = self.trend[d : t + 1] if d >= 0 else -d * [self.trend[0]] + self.trend[0 : t + 1]\n",
    "        res = []\n",
    "        for i in range(window_size - 1):\n",
    "            res.append(block[i + 1] - block[i])\n",
    "        return np.array([res])\n",
    "    def replay(self, batch_size):\n",
    "        mini_batch = []\n",
    "        l = len(self.memory)\n",
    "        for i in range(l - batch_size, l):\n",
    "            mini_batch.append(self.memory[i])\n",
    "        replay_size = len(mini_batch)\n",
    "        X = np.empty((replay_size, self.state_size))\n",
    "        Y = np.empty((replay_size, self.action_size))\n",
    "        states = np.array([a[0][0] for a in mini_batch])\n",
    "        new_states = np.array([a[3][0] for a in mini_batch])\n",
    "        Q = self.sess.run(self.logits, feed_dict = {self.X: states})\n",
    "        Q_new = self.sess.run(self.logits, feed_dict = {self.X: new_states})\n",
    "        for i in range(len(mini_batch)):\n",
    "            state, action, reward, next_state, done = mini_batch[i]\n",
    "            target = Q[i]\n",
    "            target[action] = reward\n",
    "            if not done:\n",
    "                target[action] += self.gamma * np.amax(Q_new[i])\n",
    "            X[i] = state\n",
    "            Y[i] = target\n",
    "        cost, _ = self.sess.run(\n",
    "            [self.cost, self.optimizer], feed_dict = {self.X: X, self.Y: Y}\n",
    "        )\n",
    "        if self.epsilon > self.epsilon_min:\n",
    "            self.epsilon *= self.epsilon_decay\n",
    "        return cost\n",
    "    def buy(self, initial_money):\n",
    "        starting_money = initial_money\n",
    "        states_sell = []\n",
    "        states_buy = []\n",
    "        inventory = []\n",
    "        state = self.get_state(0)\n",
    "        for t in range(0, len(self.trend) - 1, self.skip):\n",
    "            action = self.act(state)\n",
    "            next_state = self.get_state(t + 1)\n",
    "            if action == 1 and initial_money >= self.trend[t] and t < (len(self.trend) - self.half_window):\n",
    "                inventory.append(self.trend[t])\n",
    "                initial_money -= self.trend[t]\n",
    "                states_buy.append(t)\n",
    "                print('day %d: buy 1 unit at price %f, total balance %f'% (t, self.trend[t], initial_money))\n",
    "            elif action == 2 and len(inventory):\n",
    "                bought_price = inventory.pop(0)\n",
    "                initial_money += self.trend[t]\n",
    "                states_sell.append(t)\n",
    "                try:\n",
    "                    invest = ((close[t] - bought_price) / bought_price) * 100\n",
    "                except:\n",
    "                    invest = 0\n",
    "                print(\n",
    "                    'day %d, sell 1 unit at price %f, investment %f %%, total balance %f,'\n",
    "                    % (t, close[t], invest, initial_money)\n",
    "                )\n",
    "            state = next_state\n",
    "        invest = ((initial_money - starting_money) / starting_money) * 100\n",
    "        total_gains = initial_money - starting_money\n",
    "        return states_buy, states_sell, total_gains, invest\n",
    "    def train(self, iterations, checkpoint, initial_money):\n",
    "        for i in range(iterations):\n",
    "            total_profit = 0\n",
    "            inventory = []\n",
    "            state = self.get_state(0)\n",
    "            starting_money = initial_money\n",
    "            for t in range(0, len(self.trend) - 1, self.skip):\n",
    "                action = self.act(state)\n",
    "                next_state = self.get_state(t + 1)\n",
    "                if action == 1 and starting_money >= self.trend[t] and t < (len(self.trend) - self.half_window):\n",
    "                    inventory.append(self.trend[t])\n",
    "                    starting_money -= self.trend[t]\n",
    "                elif action == 2 and len(inventory) > 0:\n",
    "                    bought_price = inventory.pop(0)\n",
    "                    total_profit += self.trend[t] - bought_price\n",
    "                    starting_money += self.trend[t]\n",
    "                invest = ((starting_money - initial_money) / initial_money)\n",
    "                self.memory.append((state, action, invest, \n",
    "                                    next_state, starting_money < initial_money))\n",
    "                state = next_state\n",
    "                batch_size = min(self.batch_size, len(self.memory))\n",
    "                cost = self.replay(batch_size)\n",
    "            if (i+1) % checkpoint == 0:\n",
    "                print('epoch: %d, total rewards: %f.3, cost: %f, total money: %f'%(i + 1, total_profit, cost,\n",
    "                                                                                  starting_money))"
   ]
  },
  {
   "cell_type": "markdown",
   "id": "f4a60f7d",
   "metadata": {},
   "source": [
    "## Train the Agent"
   ]
  },
  {
   "cell_type": "code",
   "execution_count": 42,
   "id": "c73c7983",
   "metadata": {},
   "outputs": [
    {
     "name": "stderr",
     "output_type": "stream",
     "text": [
      "C:\\Users\\Lenovo\\AppData\\Local\\Temp\\ipykernel_2588\\2714956697.py:22: UserWarning: `tf.layers.dense` is deprecated and will be removed in a future version. Please use `tf.keras.layers.Dense` instead.\n",
      "  feed = tf.layers.dense(self.X, 256, activation = tf.nn.relu)\n",
      "C:\\Users\\Lenovo\\AppData\\Local\\Temp\\ipykernel_2588\\2714956697.py:23: UserWarning: `tf.layers.dense` is deprecated and will be removed in a future version. Please use `tf.keras.layers.Dense` instead.\n",
      "  self.logits = tf.layers.dense(feed, self.action_size)\n"
     ]
    },
    {
     "name": "stdout",
     "output_type": "stream",
     "text": [
      "epoch: 10, total rewards: -11.199999.3, cost: 0.013405, total money: 14948.430000\n",
      "epoch: 20, total rewards: -11.330002.3, cost: 0.011031, total money: 14988.669998\n",
      "epoch: 30, total rewards: -12.260002.3, cost: 0.010890, total money: 14987.739998\n",
      "epoch: 40, total rewards: -12.290005.3, cost: 0.010776, total money: 14987.709995\n",
      "epoch: 50, total rewards: -11.360004.3, cost: 0.012400, total money: 14988.639996\n",
      "epoch: 60, total rewards: -12.220003.3, cost: 0.010520, total money: 14967.909996\n",
      "epoch: 70, total rewards: -11.480003.3, cost: 0.010438, total money: 14988.519997\n",
      "epoch: 80, total rewards: -11.480003.3, cost: 0.010332, total money: 14988.519997\n",
      "epoch: 90, total rewards: -11.480003.3, cost: 0.010227, total money: 14988.519997\n",
      "epoch: 100, total rewards: -9.170004.3, cost: 0.010112, total money: 14990.829996\n",
      "epoch: 110, total rewards: -10.350002.3, cost: 0.011352, total money: 14989.649998\n",
      "epoch: 120, total rewards: -10.850004.3, cost: 0.009921, total money: 14989.149996\n",
      "epoch: 130, total rewards: -11.480003.3, cost: 0.009826, total money: 14988.519997\n",
      "epoch: 140, total rewards: -7.890003.3, cost: 0.009488, total money: 14992.109997\n",
      "epoch: 150, total rewards: -11.480003.3, cost: 0.009638, total money: 14988.519997\n",
      "epoch: 160, total rewards: -11.480003.3, cost: 0.009548, total money: 14988.519997\n",
      "epoch: 170, total rewards: -11.480003.3, cost: 0.009461, total money: 14988.519997\n",
      "epoch: 180, total rewards: -11.480003.3, cost: 0.009377, total money: 14988.519997\n",
      "epoch: 190, total rewards: -10.350002.3, cost: 0.009288, total money: 14989.649998\n",
      "epoch: 200, total rewards: -9.690002.3, cost: 0.009204, total money: 14990.309998\n"
     ]
    }
   ],
   "source": [
    "close = df.Close.values.tolist()\n",
    "initial_money = 15000\n",
    "window_size = 30\n",
    "skip = 1\n",
    "batch_size = 32\n",
    "agent = Agent(state_size = window_size, \n",
    "              window_size = window_size, \n",
    "              trend = close, \n",
    "              skip = skip, \n",
    "              batch_size = batch_size)\n",
    "agent.train(iterations = 200, checkpoint = 10, initial_money = initial_money)"
   ]
  },
  {
   "cell_type": "markdown",
   "id": "f5e572be",
   "metadata": {},
   "source": [
    "## Test the Agent\n"
   ]
  },
  {
   "cell_type": "code",
   "execution_count": 43,
   "id": "0eb65ffa",
   "metadata": {},
   "outputs": [
    {
     "name": "stdout",
     "output_type": "stream",
     "text": [
      "day 0: buy 1 unit at price 25.260000, total balance 14974.740000\n",
      "day 1, sell 1 unit at price 25.110001, investment -0.593823 %, total balance 14999.850000,\n",
      "day 7: buy 1 unit at price 25.750000, total balance 14974.100000\n",
      "day 8: buy 1 unit at price 25.600000, total balance 14948.500000\n",
      "day 10: buy 1 unit at price 25.510000, total balance 14922.990000\n",
      "day 14, sell 1 unit at price 22.940001, investment -10.912619 %, total balance 14945.930000,\n",
      "day 15, sell 1 unit at price 22.480000, investment -12.187503 %, total balance 14968.410000,\n",
      "day 17, sell 1 unit at price 21.809999, investment -14.504119 %, total balance 14990.219999,\n",
      "day 20: buy 1 unit at price 23.520000, total balance 14966.699999\n",
      "day 22, sell 1 unit at price 22.760000, investment -3.231293 %, total balance 14989.459999,\n",
      "day 28: buy 1 unit at price 22.270000, total balance 14967.189999\n",
      "day 30, sell 1 unit at price 22.889999, investment 2.784010 %, total balance 14990.079998,\n",
      "day 34: buy 1 unit at price 23.049999, total balance 14967.029999\n",
      "day 36, sell 1 unit at price 22.240000, investment -3.514098 %, total balance 14989.269999,\n",
      "day 45: buy 1 unit at price 23.900000, total balance 14965.369999\n",
      "day 47: buy 1 unit at price 24.010000, total balance 14941.359999\n",
      "day 48, sell 1 unit at price 24.690001, investment 3.305443 %, total balance 14966.049999,\n",
      "day 49, sell 1 unit at price 24.190001, investment 0.749689 %, total balance 14990.240000,\n",
      "day 51: buy 1 unit at price 24.490000, total balance 14965.750000\n",
      "day 53, sell 1 unit at price 24.209999, investment -1.143327 %, total balance 14989.959999,\n",
      "day 55: buy 1 unit at price 24.309999, total balance 14965.650000\n",
      "day 58, sell 1 unit at price 24.719999, investment 1.686548 %, total balance 14990.369999,\n",
      "day 64: buy 1 unit at price 24.379999, total balance 14965.990000\n",
      "day 65, sell 1 unit at price 23.969999, investment -1.681706 %, total balance 14989.959999,\n",
      "day 66: buy 1 unit at price 23.820000, total balance 14966.139999\n",
      "day 67, sell 1 unit at price 23.700001, investment -0.503774 %, total balance 14989.840000,\n",
      "day 68: buy 1 unit at price 23.049999, total balance 14966.790001\n",
      "day 71, sell 1 unit at price 20.459999, investment -11.236444 %, total balance 14987.250000,\n",
      "day 76: buy 1 unit at price 20.260000, total balance 14966.990000\n",
      "day 77, sell 1 unit at price 20.410000, investment 0.740373 %, total balance 14987.400000,\n",
      "day 79: buy 1 unit at price 20.120001, total balance 14967.279999\n",
      "day 80: buy 1 unit at price 20.500000, total balance 14946.779999\n",
      "day 81: buy 1 unit at price 19.870001, total balance 14926.909998\n",
      "day 84, sell 1 unit at price 20.610001, investment 2.435386 %, total balance 14947.519999,\n",
      "day 94, sell 1 unit at price 18.780001, investment -8.390241 %, total balance 14966.299999,\n",
      "day 95, sell 1 unit at price 18.629999, investment -6.240572 %, total balance 14984.929998,\n"
     ]
    }
   ],
   "source": [
    "states_buy, states_sell, total_gains, invest = agent.buy(initial_money = initial_money)"
   ]
  },
  {
   "cell_type": "markdown",
   "id": "54185d34",
   "metadata": {},
   "source": [
    "## Plot the total gains vs the invested figures."
   ]
  },
  {
   "cell_type": "code",
   "execution_count": 45,
   "id": "0157bcb6",
   "metadata": {},
   "outputs": [
    {
     "data": {
      "image/png": "[encoded data removed]",
      "text/plain": [
       "<Figure size 1080x360 with 1 Axes>"
      ]
     },
     "metadata": {},
     "output_type": "display_data"
    }
   ],
   "source": [
    "fig = plt.figure(figsize = (15,5))\n",
    "plt.plot(close, color='r', lw=2.)\n",
    "plt.plot(close, '^', markersize=10, color='m', label = 'buying signal', markevery = states_buy)\n",
    "plt.plot(close, 'v', markersize=10, color='k', label = 'selling signal', markevery = states_sell)\n",
    "plt.title('total gains : %f, total investment : %f%%'%(total_gains, invest))\n",
    "plt.legend()\n",
    "plt.savefig(name+'.png')\n",
    "plt.show()"
   ]
  },
  {
   "cell_type": "code",
   "execution_count": null,
   "id": "68e77322",
   "metadata": {},
   "outputs": [],
   "source": []
  }
 ],
 "metadata": {
  "kernelspec": {
   "display_name": "Python 3 (ipykernel)",
   "language": "python",
   "name": "python3"
  },
  "language_info": {
   "codemirror_mode": {
    "name": "ipython",
    "version": 3
   },
   "file_extension": ".py",
   "mimetype": "text/x-python",
   "name": "python",
   "nbconvert_exporter": "python",
   "pygments_lexer": "ipython3",
   "version": "3.9.12"
  }
 },
 "nbformat": 4,
 "nbformat_minor": 5
}
